{
 "cells": [
  {
   "cell_type": "markdown",
   "metadata": {},
   "source": [
    "# ResNet data preprocessing"
   ]
  },
  {
   "cell_type": "code",
   "execution_count": 1,
   "metadata": {},
   "outputs": [],
   "source": [
    "import os\n",
    "\n",
    "import numpy as np\n",
    "import seaborn as sns\n",
    "from tqdm import tqdm\n",
    "\n",
    "from python_speech_features import mfcc\n",
    "import scipy.io.wavfile as wav\n",
    "from matplotlib import cm"
   ]
  },
  {
   "cell_type": "markdown",
   "metadata": {},
   "source": [
    "Hyperparameter for noise reduction, window size, window shift are from the paper\n",
    "#TODO cepstrum = 13"
   ]
  },
  {
   "cell_type": "code",
   "execution_count": 2,
   "metadata": {},
   "outputs": [
    {
     "name": "stderr",
     "output_type": "stream",
     "text": [
      "100%|██████████| 35/35 [04:53<00:00,  8.39s/it]\n"
     ]
    }
   ],
   "source": [
    "# from tqdm import tqdm\n",
    "# wav_files = []\n",
    "# labels = []\n",
    "\n",
    "def wav_to_mfcc(reduce_noise=True):\n",
    "    lowfreq = 20 if reduce_noise else 0\n",
    "    highfreq = 4000 if reduce_noise else None\n",
    "    \n",
    "    mfcc_features = []\n",
    "    labels = []\n",
    "    \n",
    "    # Iterate over all keyword wav files\n",
    "    for keyword_dir in tqdm(os.listdir(\"speech_commands\")):\n",
    "        for file in os.listdir(f\"speech_commands/{keyword_dir}\"):\n",
    "            if file.endswith(\".wav\"):\n",
    "\n",
    "                # Read wav\n",
    "                (rate,sig) = wav.read(f\"speech_commands/{keyword_dir}/{file}\")\n",
    "                \n",
    "                # Compute and store mfcc features\n",
    "                mfcc_feat = mfcc(sig,rate, winlen=0.03, lowfreq=lowfreq, highfreq=highfreq)\n",
    "                mfcc_features.append(mfcc_feat)\n",
    "                labels.append(keyword_dir)\n",
    "                \n",
    "    return mfcc_features, labels\n",
    "\n",
    "mfcc_features, labels = wav_to_mfcc()"
   ]
  },
  {
   "cell_type": "code",
   "execution_count": 9,
   "metadata": {},
   "outputs": [
    {
     "name": "stdout",
     "output_type": "stream",
     "text": [
      "10425\n"
     ]
    }
   ],
   "source": [
    "counter = 0\n",
    "for index, f in enumerate(mfcc_features):\n",
    "    if f.shape[0] != 98:\n",
    "#         print(index)\n",
    "        counter+=1\n",
    "print(counter)"
   ]
  },
  {
   "cell_type": "code",
   "execution_count": 8,
   "metadata": {},
   "outputs": [
    {
     "data": {
      "text/plain": [
       "98"
      ]
     },
     "execution_count": 8,
     "metadata": {},
     "output_type": "execute_result"
    }
   ],
   "source": [
    "len(max(mfcc_features, key=len))"
   ]
  },
  {
   "cell_type": "code",
   "execution_count": 3,
   "metadata": {},
   "outputs": [
    {
     "name": "stderr",
     "output_type": "stream",
     "text": [
      "105829it [00:00, 877475.74it/s]\n"
     ]
    }
   ],
   "source": [
    "# Make sure all samples have the same size using zero post-padding\n",
    "\n",
    "longest_mfcc = len(max(mfcc_features, key=len))\n",
    "for i, mfcc in tqdm(enumerate(mfcc_features)):\n",
    "    padding_length = longest_mfcc - len(mfcc)\n",
    "    if padding_length > 0:\n",
    "        mfcc_features[i] = np.concatenate((mfcc, np.zeros((padding_length, 13))), axis=0)"
   ]
  },
  {
   "cell_type": "code",
   "execution_count": 4,
   "metadata": {},
   "outputs": [],
   "source": [
    "# Export data\n",
    "np.save('resnet_mfcc_features.npy', mfcc_features)\n",
    "np.save('resnet_labels.npy', labels)"
   ]
  }
 ],
 "metadata": {
  "kernelspec": {
   "display_name": "Python 3",
   "language": "python",
   "name": "python3"
  },
  "language_info": {
   "codemirror_mode": {
    "name": "ipython",
    "version": 3
   },
   "file_extension": ".py",
   "mimetype": "text/x-python",
   "name": "python",
   "nbconvert_exporter": "python",
   "pygments_lexer": "ipython3",
   "version": "3.8.5"
  }
 },
 "nbformat": 4,
 "nbformat_minor": 4
}
