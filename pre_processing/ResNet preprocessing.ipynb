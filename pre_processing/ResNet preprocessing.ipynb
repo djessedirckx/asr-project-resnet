{
 "cells": [
  {
   "cell_type": "markdown",
   "metadata": {},
   "source": [
    "# ResNet data preprocessing"
   ]
  },
  {
   "cell_type": "code",
   "execution_count": 1,
   "metadata": {},
   "outputs": [],
   "source": [
    "import os\n",
    "\n",
    "import numpy as np\n",
    "import seaborn as sns\n",
    "from tqdm import tqdm\n",
    "import librosa\n",
    "\n",
    "from python_speech_features import mfcc\n",
    "import scipy.io.wavfile as wav\n",
    "from matplotlib import cm"
   ]
  },
  {
   "cell_type": "code",
   "execution_count": 2,
   "metadata": {},
   "outputs": [],
   "source": [
    "# !pip install librosa\n",
    "# !pip install numba"
   ]
  },
  {
   "cell_type": "markdown",
   "metadata": {},
   "source": [
    "Preprocessing and hyperparameters are inspired by the [original paper implementation](https://github.com/castorini/honk/blob/c3aae750c428520ba340961bddd526f9c999bb93/utils/manage_audio.py#L30)"
   ]
  },
  {
   "cell_type": "code",
   "execution_count": 3,
   "metadata": {
    "scrolled": false
   },
   "outputs": [
    {
     "name": "stderr",
     "output_type": "stream",
     "text": [
      "100%|██████████| 35/35 [1:06:01<00:00, 113.18s/it]\n"
     ]
    }
   ],
   "source": [
    "def wav_to_mfcc(reduce_noise=True):\n",
    "    lowfreq = 20 if reduce_noise else 0\n",
    "    highfreq = 4000 if reduce_noise else None\n",
    "    \n",
    "    mfcc_features = []\n",
    "    labels = []\n",
    "\n",
    "    # Iterate over all keyword wav files\n",
    "    for keyword_dir in tqdm(os.listdir(\"speech_commands\")):\n",
    "        for file in os.listdir(f\"speech_commands/{keyword_dir}\"):\n",
    "            if file.endswith(\".wav\"):\n",
    "\n",
    "                # Read wav\n",
    "                signal, sr = librosa.load(f\"speech_commands/{keyword_dir}/{file}\")\n",
    "                \n",
    "                # Compute and store mfcc features\n",
    "                mfcc = librosa.feature.mfcc(signal, sr=16000, n_mfcc=40, fmin=20, fmax=4000, hop_length=160)\n",
    "                mfcc = mfcc.reshape(1, -1, 40)\n",
    "                \n",
    "                mfcc_features.append(mfcc)\n",
    "                labels.append(keyword_dir)\n",
    "                \n",
    "    return mfcc_features, labels\n",
    "\n",
    "mfcc_features, labels = wav_to_mfcc()"
   ]
  },
  {
   "cell_type": "code",
   "execution_count": 4,
   "metadata": {},
   "outputs": [
    {
     "name": "stderr",
     "output_type": "stream",
     "text": [
      "105829it [00:00, 462952.65it/s]\n"
     ]
    }
   ],
   "source": [
    "# Make sure all samples have the same size using zero post-padding\n",
    "\n",
    "mfcc_shape = 138\n",
    "for i, mfcc in tqdm(enumerate(mfcc_features)):\n",
    "    padding_length = mfcc_shape - mfcc.shape[1]\n",
    "    if padding_length > 0:\n",
    "        mfcc_features[i] = np.concatenate((mfcc, np.zeros((1, padding_length, 40))), axis=1)"
   ]
  },
  {
   "cell_type": "code",
   "execution_count": 8,
   "metadata": {},
   "outputs": [],
   "source": [
    "# Export data\n",
    "np.save('resnet_mfcc_features_test.npy', mfcc_features)\n",
    "np.save('resnet_labels_test.npy', labels)"
   ]
  },
  {
   "cell_type": "code",
   "execution_count": 59,
   "metadata": {},
   "outputs": [
    {
     "data": {
      "text/plain": [
       "(1, 138, 20)"
      ]
     },
     "execution_count": 59,
     "metadata": {},
     "output_type": "execute_result"
    }
   ],
   "source": [
    "signal, sr = librosa.load('speech_commands/marvin/a2cc5444_nohash_0.wav')\n",
    "\n",
    "mfcc = librosa.feature.mfcc(signal, sr=16000, n_mels=40, n_fft=480, fmin=40, fmax=4000, hop_length=160)\n",
    "mfcc.reshape(1, -1, 20).shape"
   ]
  }
 ],
 "metadata": {
  "kernelspec": {
   "display_name": "Python 3",
   "language": "python",
   "name": "python3"
  },
  "language_info": {
   "codemirror_mode": {
    "name": "ipython",
    "version": 3
   },
   "file_extension": ".py",
   "mimetype": "text/x-python",
   "name": "python",
   "nbconvert_exporter": "python",
   "pygments_lexer": "ipython3",
   "version": "3.8.5"
  }
 },
 "nbformat": 4,
 "nbformat_minor": 4
}
